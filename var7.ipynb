{
 "cells": [
  {
   "cell_type": "code",
   "execution_count": 2,
   "id": "d32f47bf-99bf-4708-8afd-db95b70bc263",
   "metadata": {},
   "outputs": [],
   "source": [
    "def task_7():\n",
    "    try:\n",
    "        num = input(\"Введіть число: \").strip()\n",
    "\n",
    "        number = float(num)\n",
    "        \n",
    "        if number < 0:\n",
    "            sign = '1|'\n",
    "            number = abs(number)\n",
    "        else:\n",
    "            sign = '0|'\n",
    "        \n",
    "        integer_part = int(number)\n",
    "        fractional_part = number - integer_part\n",
    "        \n",
    "        binary_integer = bin(integer_part)[2:]\n",
    "        \n",
    "        binary_fraction = []\n",
    "        while fractional_part and len(binary_fraction) < 10:\n",
    "            fractional_part *= 2\n",
    "            bit = int(fractional_part)\n",
    "            binary_fraction.append(str(bit))\n",
    "            fractional_part -= bit\n",
    "        \n",
    "        binary_number = f\"{sign}{binary_integer}\"\n",
    "        if binary_fraction:\n",
    "            binary_number += '.' + ''.join(binary_fraction)\n",
    "        \n",
    "        return f\"{num} у двійковій системі буде {binary_number}\"\n",
    "    \n",
    "    except ValueError:\n",
    "        return \"Помилка: введене значення не є числом. Спробуйте ще раз.\""
   ]
  },
  {
   "cell_type": "code",
   "execution_count": 3,
   "id": "15fb7830-a748-412c-89f3-43cf4bce754d",
   "metadata": {},
   "outputs": [
    {
     "name": "stdin",
     "output_type": "stream",
     "text": [
      "Введіть число:  32\n"
     ]
    },
    {
     "name": "stdout",
     "output_type": "stream",
     "text": [
      "32 у двійковій системі буде 0|100000\n"
     ]
    }
   ],
   "source": [
    "print(task_7())"
   ]
  },
  {
   "cell_type": "code",
   "execution_count": 4,
   "id": "54ebb2b0-a1f9-40de-8bae-46b7f53bec22",
   "metadata": {},
   "outputs": [
    {
     "name": "stdin",
     "output_type": "stream",
     "text": [
      "Введіть число:  -10.25\n"
     ]
    },
    {
     "name": "stdout",
     "output_type": "stream",
     "text": [
      "-10.25 у двійковій системі буде 1|1010.01\n"
     ]
    }
   ],
   "source": [
    "print(task_7())"
   ]
  },
  {
   "cell_type": "code",
   "execution_count": null,
   "id": "fbf901e9-e94a-4dfd-8698-aa4be8985d24",
   "metadata": {},
   "outputs": [],
   "source": []
  }
 ],
 "metadata": {
  "kernelspec": {
   "display_name": "Python 3 (ipykernel)",
   "language": "python",
   "name": "python3"
  },
  "language_info": {
   "codemirror_mode": {
    "name": "ipython",
    "version": 3
   },
   "file_extension": ".py",
   "mimetype": "text/x-python",
   "name": "python",
   "nbconvert_exporter": "python",
   "pygments_lexer": "ipython3",
   "version": "3.9.13"
  }
 },
 "nbformat": 4,
 "nbformat_minor": 5
}
