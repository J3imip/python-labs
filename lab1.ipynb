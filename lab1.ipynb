{
 "cells": [
  {
   "cell_type": "code",
   "execution_count": 5,
   "id": "3ef166b6-c2ec-4bfc-8240-1309156e2ded",
   "metadata": {},
   "outputs": [
    {
     "name": "stdout",
     "output_type": "stream",
     "text": [
      "Варіант №7\n"
     ]
    }
   ],
   "source": [
    "N = ord(\"B\") % 10 + 1\n",
    "print(\"Варіант №\" + str(N))"
   ]
  },
  {
   "cell_type": "markdown",
   "id": "9c4ef485-ce77-4bde-ad18-70c51fbe2275",
   "metadata": {},
   "source": [
    "# Ісландія\n",
    "## Основна інформація\n",
    "**Ісландія** — це острівна держава, яка розташована на півночі Атлантичного океану. Столиця — Рейк'явік.\n",
    "\n",
    "- **Площа**: *103 000 км²*\n",
    "- **Населення**: *372 520* осіб (2023)\n",
    "- **Офіційна мова**: ісландська\n",
    "- **Державний устрій**: парламентська республіка"
   ]
  },
  {
   "cell_type": "markdown",
   "id": "ff46c824-2926-48ec-9770-8b37a4867eca",
   "metadata": {},
   "source": [
    "## Видатні персоналії\n",
    "\n",
    "- **Сноррі Стурлусон** — середньовічний ісландський поет, історик та політик.\n",
    "- **Бйорк** — сучасна співачка, композитор та акторка."
   ]
  },
  {
   "cell_type": "markdown",
   "id": "927c1a49-bc3d-485d-9a2c-bfbefc4d5aaf",
   "metadata": {},
   "source": [
    "## Культура та природа\n",
    "\n",
    "**Пам’ятки культури**:\n",
    "1. Ісландська сага.\n",
    "2. Собор Хадльгрімскірк'я у Рейк'явіку.\n",
    "\n",
    "**Природні пам’ятки**:\n",
    "- Блакитна лагуна\n",
    "- Водоспад Ґульфосс\n",
    "- Національний парк Тінгветлір"
   ]
  },
  {
   "cell_type": "markdown",
   "id": "38eaf32f-2e24-4e4c-9456-c225bcddd6c2",
   "metadata": {},
   "source": [
    "## Таблиця даних\n",
    "\n",
    "| Показник               | Значення        |\n",
    "|------------------------|-----------------|\n",
    "| Площа                  | 103 000 км²     |\n",
    "| Населення              | 372 520         |\n",
    "| Офіційна мова          | Ісландська      |\n",
    "| Державний устрій       | Республіка      |"
   ]
  },
  {
   "cell_type": "code",
   "execution_count": 3,
   "id": "1adbdf66-7630-44a6-8aea-c08b46775a31",
   "metadata": {},
   "outputs": [
    {
     "data": {
      "text/html": [
       "\n",
       "<div style=\"border:2px solid black; padding:10px;\">\n",
       "Ісландський прапор складається з синього фону, білого хреста та червоного хреста всередині білого.\n",
       "</div>\n",
       "\n",
       "<svg width=\"300\" height=\"200\" xmlns=\"http://www.w3.org/2000/svg\">\n",
       "  <!-- Синій фон -->\n",
       "  <rect width=\"300\" height=\"200\" fill=\"blue\"/>\n",
       "  <!-- Білий хрест -->\n",
       "  <rect width=\"300\" height=\"40\" y=\"80\" fill=\"white\"/>\n",
       "  <rect width=\"40\" height=\"200\" x=\"120\" fill=\"white\"/>\n",
       "  <!-- Червоний хрест -->\n",
       "  <rect width=\"300\" height=\"20\" y=\"90\" fill=\"red\"/>\n",
       "  <rect width=\"20\" height=\"200\" x=\"130\" fill=\"red\"/>\n",
       "</svg>\n"
      ],
      "text/plain": [
       "<IPython.core.display.HTML object>"
      ]
     },
     "metadata": {},
     "output_type": "display_data"
    }
   ],
   "source": [
    "%%html\n",
    "\n",
    "<div style=\"border:2px solid black; padding:10px;\">\n",
    "Ісландський прапор складається з синього фону, білого хреста та червоного хреста всередині білого.\n",
    "</div>\n",
    "\n",
    "<svg width=\"300\" height=\"200\" xmlns=\"http://www.w3.org/2000/svg\">\n",
    "  <!-- Синій фон -->\n",
    "  <rect width=\"300\" height=\"200\" fill=\"blue\"/>\n",
    "  <!-- Білий хрест -->\n",
    "  <rect width=\"300\" height=\"40\" y=\"80\" fill=\"white\"/>\n",
    "  <rect width=\"40\" height=\"200\" x=\"120\" fill=\"white\"/>\n",
    "  <!-- Червоний хрест -->\n",
    "  <rect width=\"300\" height=\"20\" y=\"90\" fill=\"red\"/>\n",
    "  <rect width=\"20\" height=\"200\" x=\"130\" fill=\"red\"/>\n",
    "</svg>"
   ]
  },
  {
   "cell_type": "markdown",
   "id": "3fd985c2-21d7-4cf0-9aa6-2cf5466842a0",
   "metadata": {},
   "source": [
    "## Вкладені списки\n",
    "\n",
    "### Основні риси державного устрою:\n",
    "- Парламентська республіка:\n",
    "    1. Президент — *формальний глава держави*.\n",
    "    2. Альтинг — *найстаріший парламент у світі*."
   ]
  },
  {
   "cell_type": "markdown",
   "id": "50ac2731-3d6f-4cd8-94c2-d117fc995ec6",
   "metadata": {},
   "source": [
    "## Зображення Ісландії\n",
    "\n",
    "![Краєвид Ісландії](https://upload.wikimedia.org/wikipedia/commons/b/b5/Nor%C3%B0fj%C3%B6r%C3%B0ur.JPG)\n",
    "\n",
    "## Гіперпосилання\n",
    "Детальніше про [Ісландію на Wikipedia](https://uk.wikipedia.org/wiki/%D0%86%D1%81%D0%BB%D0%B0%D0%BD%D0%B4%D1%96%D1%8F)."
   ]
  }
 ],
 "metadata": {
  "kernelspec": {
   "display_name": "Python 3 (ipykernel)",
   "language": "python",
   "name": "python3"
  },
  "language_info": {
   "codemirror_mode": {
    "name": "ipython",
    "version": 3
   },
   "file_extension": ".py",
   "mimetype": "text/x-python",
   "name": "python",
   "nbconvert_exporter": "python",
   "pygments_lexer": "ipython3",
   "version": "3.9.13"
  }
 },
 "nbformat": 4,
 "nbformat_minor": 5
}
