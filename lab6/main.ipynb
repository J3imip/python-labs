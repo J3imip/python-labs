{
 "cells": [
  {
   "cell_type": "code",
   "execution_count": 31,
   "id": "9a297e9a-1883-46c9-8d2b-74a4ef734334",
   "metadata": {},
   "outputs": [
    {
     "data": {
      "text/plain": [
       "2"
      ]
     },
     "execution_count": 31,
     "metadata": {},
     "output_type": "execute_result"
    }
   ],
   "source": [
    "import cv2\n",
    "import numpy as np\n",
    "import pandas as pd\n",
    "\n",
    "N = ord('B') % 5 + 1\n",
    "N"
   ]
  },
  {
   "cell_type": "code",
   "execution_count": 35,
   "id": "8adf5e5b-edff-4b12-bd79-b51dc540414b",
   "metadata": {},
   "outputs": [
    {
     "data": {
      "text/plain": [
       "'draco.jpg'"
      ]
     },
     "execution_count": 35,
     "metadata": {},
     "output_type": "execute_result"
    }
   ],
   "source": [
    "df = pd.read_excel('lab6.xlsx')\n",
    "df.loc[N, 'file name']"
   ]
  },
  {
   "cell_type": "code",
   "execution_count": 27,
   "id": "0bf570bb-2a8e-4cf8-ad55-10a457af534a",
   "metadata": {},
   "outputs": [
    {
     "name": "stdin",
     "output_type": "stream",
     "text": [
      "Enter lens factor (0.1 - 0.5):  0.33\n"
     ]
    },
    {
     "data": {
      "text/plain": [
       "True"
      ]
     },
     "execution_count": 27,
     "metadata": {},
     "output_type": "execute_result"
    }
   ],
   "source": [
    "# Load Haar cascades for face and eye detection\n",
    "face_cascade = cv2.CascadeClassifier(cv2.data.haarcascades + 'haarcascade_frontalface_default.xml')\n",
    "eye_cascade = cv2.CascadeClassifier(cv2.data.haarcascades + 'haarcascade_eye.xml')\n",
    "\n",
    "# Read the image\n",
    "image_path = './images/emma-watson.jpg'\n",
    "image = cv2.imread(image_path)\n",
    "\n",
    "# Convert the image to grayscale\n",
    "gray = cv2.cvtColor(image, cv2.COLOR_BGR2GRAY)\n",
    "\n",
    "# Detect faces\n",
    "faces = face_cascade.detectMultiScale(gray, 1.3, 5)\n",
    "\n",
    "# Get lens size factor with input validation\n",
    "while True:\n",
    "    try:\n",
    "        lens_size_factor = float(input(\"Enter lens factor (0.1 - 0.5): \"))\n",
    "        if 0.1 <= lens_size_factor <= 0.5:\n",
    "            break\n",
    "        else:\n",
    "            print(\"Please enter a value between 0.1 and 0.5.\")\n",
    "    except ValueError:\n",
    "        print(\"Invalid input. Please enter a numeric value between 0.1 and 0.5.\")\n",
    "\n",
    "# Loop through each detected face\n",
    "for (x, y, w, h) in faces:\n",
    "    # Region of interest (ROI) for the face\n",
    "    roi_gray = gray[y:y + h, x:x + w]\n",
    "    roi_color = image[y:y + h, x:x + w]\n",
    "\n",
    "    # Detect eyes in the face region\n",
    "    eyes = eye_cascade.detectMultiScale(roi_gray)\n",
    "\n",
    "    # If at least two eyes are detected\n",
    "    if len(eyes) >= 2:\n",
    "        # Sort the eyes by size (area)\n",
    "        eyes = sorted(eyes, key=lambda e: e[2]*e[3], reverse=True)\n",
    "        eye1 = eyes[0]\n",
    "        eye2 = eyes[1]\n",
    "\n",
    "        # Calculate the centers of the eyes\n",
    "        center1 = (x + eye1[0] + eye1[2] // 2, y + eye1[1] + eye1[3] // 2)\n",
    "        center2 = (x + eye2[0] + eye2[2] // 2, y + eye2[1] + eye2[3] // 2)\n",
    "\n",
    "        # Calculate the distance between the eyes to determine the glasses size\n",
    "        dx = center2[0] - center1[0]\n",
    "        dy = center2[1] - center1[1]\n",
    "        dist = np.sqrt(dx**2 + dy**2)\n",
    "        radius = int(dist * (lens_size_factor))\n",
    "\n",
    "        # Glasses color (black)\n",
    "        color = (255, 0, 0)\n",
    "\n",
    "        # Draw circles on the eyes\n",
    "        cv2.circle(image, center1, radius, color, 2)\n",
    "        cv2.circle(image, center2, radius, color, 2)\n",
    "\n",
    "        # Draw the bridge between the lenses\n",
    "        point1 = (center1[0] + radius, center1[1])\n",
    "        point2 = (center2[0] - radius, center2[1])\n",
    "        cv2.line(image, point1, point2, color, 2)\n",
    "\n",
    "        # Draw the arms of the glasses\n",
    "        # Left arm\n",
    "        cv2.line(image, (center1[0] - radius, center1[1]),\n",
    "                 (center1[0] - int(radius * 1.5), center1[1] - int(radius * 0.5)), color, 2)\n",
    "        # Right arm\n",
    "        cv2.line(image, (center2[0] + radius, center2[1]),\n",
    "                 (center2[0] + int(radius * 1.5), center2[1] - int(radius * 0.5)), color, 2)\n",
    "\n",
    "        # After processing one face, exit the loop\n",
    "        break\n",
    "\n",
    "# Save the output image\n",
    "cv2.imwrite(\"output.jpg\", image)"
   ]
  },
  {
   "cell_type": "code",
   "execution_count": null,
   "id": "da957d22-f51a-4262-97f3-f1ecb80ae005",
   "metadata": {},
   "outputs": [],
   "source": []
  }
 ],
 "metadata": {
  "kernelspec": {
   "display_name": "Python 3 (ipykernel)",
   "language": "python",
   "name": "python3"
  },
  "language_info": {
   "codemirror_mode": {
    "name": "ipython",
    "version": 3
   },
   "file_extension": ".py",
   "mimetype": "text/x-python",
   "name": "python",
   "nbconvert_exporter": "python",
   "pygments_lexer": "ipython3",
   "version": "3.12.7"
  }
 },
 "nbformat": 4,
 "nbformat_minor": 5
}
